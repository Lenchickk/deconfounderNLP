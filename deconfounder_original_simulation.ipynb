{
 "cells": [
  {
   "cell_type": "markdown",
   "metadata": {},
   "source": [
    "# The Deconfounder simulation \n",
    "The following code follows the step presented by Yixin Wang in deconfounder tutorial but applies it to the death penalty dataset.\n",
    "\n",
    "Let's start by pointing to our data:"
   ]
  },
  {
   "cell_type": "code",
   "execution_count": 8,
   "metadata": {},
   "outputs": [],
   "source": [
    "import csv\n",
    "import pandas as pd\n",
    "\n",
    "datafile = '/Users/elenalabzina/Documents/GitHub/DeconfounderAnalysis/data/death-penalty-cases.csv'\n",
    "csv_file = open(datafile, mode='r')\n",
    "csv_reader = csv.DictReader(csv_file)\n",
    "data = pd.read_csv(datafile, encoding='utf-8')"
   ]
  },
  {
   "cell_type": "markdown",
   "metadata": {},
   "source": [
    "Now we repeat the initialization steps from Wang's code.\n"
   ]
  },
  {
   "cell_type": "code",
   "execution_count": 10,
   "metadata": {},
   "outputs": [
    {
     "name": "stdout",
     "output_type": "stream",
     "text": [
      "Requirement already satisfied: tensorflow_probability in ./anaconda2/envs/py36/lib/python3.6/site-packages (0.4.0)\n",
      "Requirement already satisfied: numpy>=1.13.3 in ./anaconda2/envs/py36/lib/python3.6/site-packages (from tensorflow_probability) (1.15.1)\n",
      "Requirement already satisfied: six>=1.10.0 in ./anaconda2/envs/py36/lib/python3.6/site-packages (from tensorflow_probability) (1.11.0)\n",
      "Requirement already satisfied: tensorflow>=1.10.0 in ./anaconda2/envs/py36/lib/python3.6/site-packages (from tensorflow_probability) (1.11.0)\n",
      "Requirement already satisfied: tensorboard<1.12.0,>=1.11.0 in ./anaconda2/envs/py36/lib/python3.6/site-packages (from tensorflow>=1.10.0->tensorflow_probability) (1.11.0)\n",
      "Requirement already satisfied: keras-applications>=1.0.5 in ./anaconda2/envs/py36/lib/python3.6/site-packages (from tensorflow>=1.10.0->tensorflow_probability) (1.0.6)\n",
      "Requirement already satisfied: grpcio>=1.8.6 in ./anaconda2/envs/py36/lib/python3.6/site-packages (from tensorflow>=1.10.0->tensorflow_probability) (1.15.0)\n",
      "Requirement already satisfied: astor>=0.6.0 in ./anaconda2/envs/py36/lib/python3.6/site-packages (from tensorflow>=1.10.0->tensorflow_probability) (0.7.1)\n",
      "Requirement already satisfied: gast>=0.2.0 in ./anaconda2/envs/py36/lib/python3.6/site-packages (from tensorflow>=1.10.0->tensorflow_probability) (0.2.0)\n",
      "Requirement already satisfied: absl-py>=0.1.6 in ./anaconda2/envs/py36/lib/python3.6/site-packages (from tensorflow>=1.10.0->tensorflow_probability) (0.5.0)\n",
      "Requirement already satisfied: protobuf>=3.6.0 in ./anaconda2/envs/py36/lib/python3.6/site-packages (from tensorflow>=1.10.0->tensorflow_probability) (3.6.1)\n",
      "Requirement already satisfied: setuptools<=39.1.0 in ./anaconda2/envs/py36/lib/python3.6/site-packages (from tensorflow>=1.10.0->tensorflow_probability) (39.1.0)\n",
      "Requirement already satisfied: wheel>=0.26 in ./anaconda2/envs/py36/lib/python3.6/site-packages (from tensorflow>=1.10.0->tensorflow_probability) (0.31.1)\n",
      "Requirement already satisfied: termcolor>=1.1.0 in ./anaconda2/envs/py36/lib/python3.6/site-packages (from tensorflow>=1.10.0->tensorflow_probability) (1.1.0)\n",
      "Requirement already satisfied: keras-preprocessing>=1.0.3 in ./anaconda2/envs/py36/lib/python3.6/site-packages (from tensorflow>=1.10.0->tensorflow_probability) (1.0.5)\n",
      "Requirement already satisfied: werkzeug>=0.11.10 in ./anaconda2/envs/py36/lib/python3.6/site-packages (from tensorboard<1.12.0,>=1.11.0->tensorflow>=1.10.0->tensorflow_probability) (0.14.1)\n",
      "Requirement already satisfied: markdown>=2.6.8 in ./anaconda2/envs/py36/lib/python3.6/site-packages (from tensorboard<1.12.0,>=1.11.0->tensorflow>=1.10.0->tensorflow_probability) (3.0.1)\n",
      "Requirement already satisfied: h5py in ./anaconda2/envs/py36/lib/python3.6/site-packages (from keras-applications>=1.0.5->tensorflow>=1.10.0->tensorflow_probability) (2.8.0)\n"
     ]
    }
   ],
   "source": [
    "!pip install tensorflow_probability"
   ]
  },
  {
   "cell_type": "markdown",
   "metadata": {},
   "source": [
    "Be careful: for the following code to run smoothly the computer must run Python 3. Python 2 causes errors."
   ]
  },
  {
   "cell_type": "code",
   "execution_count": 21,
   "metadata": {},
   "outputs": [
    {
     "data": {
      "text/plain": [
       "list"
      ]
     },
     "execution_count": 21,
     "metadata": {},
     "output_type": "execute_result"
    }
   ],
   "source": [
    "\n",
    "import tensorflow as tf\n",
    "import numpy as np\n",
    "import numpy.random as npr\n",
    "import pandas as pd\n",
    "import tensorflow as tf\n",
    "import tensorflow_probability as tfp\n",
    "import statsmodels.api as sm\n",
    "\n",
    "from tensorflow_probability import edward2 as ed\n",
    "from sklearn.datasets import load_breast_cancer\n",
    "from pandas.tools.plotting import scatter_matrix\n",
    "from scipy import sparse, stats\n",
    "from sklearn.cross_validation import train_test_split\n",
    "from sklearn.linear_model import LogisticRegression \n",
    "from sklearn.metrics import confusion_matrix, classification_report, roc_auc_score, roc_curve\n",
    "\n",
    "import matplotlib\n",
    "matplotlib.rcParams.update({'font.sans-serif' : 'Helvetica',\n",
    "                            'axes.labelsize': 10,\n",
    "                            'xtick.labelsize' : 6,\n",
    "                            'ytick.labelsize' : 6,\n",
    "                            'axes.titlesize' : 10})\n",
    "import matplotlib.pyplot as plt\n",
    "\n",
    "import seaborn as sns\n",
    "color_names = [\"windows blue\",\n",
    "               \"amber\",\n",
    "               \"crimson\",\n",
    "               \"faded green\",\n",
    "               \"dusty purple\",\n",
    "               \"greyish\"]\n",
    "\n",
    "type(color_names)\n"
   ]
  },
  {
   "cell_type": "code",
   "execution_count": null,
   "metadata": {},
   "outputs": [],
   "source": []
  },
  {
   "cell_type": "code",
   "execution_count": null,
   "metadata": {},
   "outputs": [],
   "source": []
  }
 ],
 "metadata": {
  "kernelspec": {
   "display_name": "Python 3",
   "language": "python",
   "name": "python3"
  },
  "language_info": {
   "codemirror_mode": {
    "name": "ipython",
    "version": 3
   },
   "file_extension": ".py",
   "mimetype": "text/x-python",
   "name": "python",
   "nbconvert_exporter": "python",
   "pygments_lexer": "ipython3",
   "version": "3.6.6"
  }
 },
 "nbformat": 4,
 "nbformat_minor": 2
}
