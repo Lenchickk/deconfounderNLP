{
 "cells": [
  {
   "cell_type": "code",
   "execution_count": 1,
   "metadata": {},
   "outputs": [],
   "source": [
    "import csv, sys\n",
    "import os, glob\n",
    "import string\n",
    "from string import ascii_lowercase\n",
    "import numpy as np\n",
    "from nltk.corpus import stopwords\n",
    "from nltk.stem.snowball import SnowballStemmer\n",
    "from nltk.tokenize import word_tokenize\n",
    "import nltk\n",
    "import pandas as pd\n",
    "from nltk.collocations import *\n",
    "from nltk.probability import FreqDist\n",
    "\n",
    "\n",
    "output_path = '/home/romina/Documents/work/Speeches_mining/outputs'\n",
    "input_path = '/home/romina/Documents/work/speeches-segmented/greg-tables'"
   ]
  },
  {
   "cell_type": "code",
   "execution_count": 4,
   "metadata": {},
   "outputs": [],
   "source": [
    "os.chdir(output_path)\n",
    "output = open('output.csv', 'r')\n",
    "data = pd.read_csv(output, encoding='utf-8')\n",
    "text = pd.DataFrame(data[['text']])\n",
    "data = list()\n",
    "for index, content in text.iterrows():\n",
    "    data.append(content['text'])"
   ]
  },
  {
   "cell_type": "code",
   "execution_count": 6,
   "metadata": {},
   "outputs": [
    {
     "ename": "KeyError",
     "evalue": "'date'",
     "traceback": [
      "\u001b[0;31m---------------------------------------------------------------------------\u001b[0m",
      "\u001b[0;31mTypeError\u001b[0m                                 Traceback (most recent call last)",
      "\u001b[0;32m/usr/local/lib/python3.6/dist-packages/pandas/core/indexes/base.py\u001b[0m in \u001b[0;36mget_value\u001b[0;34m(self, series, key)\u001b[0m\n\u001b[1;32m   3123\u001b[0m             \u001b[0;32mtry\u001b[0m\u001b[0;34m:\u001b[0m\u001b[0;34m\u001b[0m\u001b[0m\n\u001b[0;32m-> 3124\u001b[0;31m                 \u001b[0;32mreturn\u001b[0m \u001b[0mlibindex\u001b[0m\u001b[0;34m.\u001b[0m\u001b[0mget_value_box\u001b[0m\u001b[0;34m(\u001b[0m\u001b[0ms\u001b[0m\u001b[0;34m,\u001b[0m \u001b[0mkey\u001b[0m\u001b[0;34m)\u001b[0m\u001b[0;34m\u001b[0m\u001b[0m\n\u001b[0m\u001b[1;32m   3125\u001b[0m             \u001b[0;32mexcept\u001b[0m \u001b[0mIndexError\u001b[0m\u001b[0;34m:\u001b[0m\u001b[0;34m\u001b[0m\u001b[0m\n",
      "\u001b[0;32mpandas/_libs/index.pyx\u001b[0m in \u001b[0;36mpandas._libs.index.get_value_box\u001b[0;34m()\u001b[0m\n",
      "\u001b[0;32mpandas/_libs/index.pyx\u001b[0m in \u001b[0;36mpandas._libs.index.get_value_box\u001b[0;34m()\u001b[0m\n",
      "\u001b[0;31mTypeError\u001b[0m: 'str' object cannot be interpreted as an integer",
      "\nDuring handling of the above exception, another exception occurred:\n",
      "\u001b[0;31mKeyError\u001b[0m                                  Traceback (most recent call last)",
      "\u001b[0;32m<ipython-input-6-2884653f3703>\u001b[0m in \u001b[0;36m<module>\u001b[0;34m\u001b[0m\n\u001b[0;32m----> 1\u001b[0;31m \u001b[0mprint\u001b[0m\u001b[0;34m(\u001b[0m\u001b[0mdata\u001b[0m\u001b[0;34m[\u001b[0m\u001b[0;36m0\u001b[0m\u001b[0;34m]\u001b[0m\u001b[0;34m[\u001b[0m\u001b[0;34m'date'\u001b[0m\u001b[0;34m]\u001b[0m\u001b[0;34m)\u001b[0m\u001b[0;34m\u001b[0m\u001b[0m\n\u001b[0m",
      "\u001b[0;32m/usr/local/lib/python3.6/dist-packages/pandas/core/series.py\u001b[0m in \u001b[0;36m__getitem__\u001b[0;34m(self, key)\u001b[0m\n\u001b[1;32m    765\u001b[0m         \u001b[0mkey\u001b[0m \u001b[0;34m=\u001b[0m \u001b[0mcom\u001b[0m\u001b[0;34m.\u001b[0m\u001b[0m_apply_if_callable\u001b[0m\u001b[0;34m(\u001b[0m\u001b[0mkey\u001b[0m\u001b[0;34m,\u001b[0m \u001b[0mself\u001b[0m\u001b[0;34m)\u001b[0m\u001b[0;34m\u001b[0m\u001b[0m\n\u001b[1;32m    766\u001b[0m         \u001b[0;32mtry\u001b[0m\u001b[0;34m:\u001b[0m\u001b[0;34m\u001b[0m\u001b[0m\n\u001b[0;32m--> 767\u001b[0;31m             \u001b[0mresult\u001b[0m \u001b[0;34m=\u001b[0m \u001b[0mself\u001b[0m\u001b[0;34m.\u001b[0m\u001b[0mindex\u001b[0m\u001b[0;34m.\u001b[0m\u001b[0mget_value\u001b[0m\u001b[0;34m(\u001b[0m\u001b[0mself\u001b[0m\u001b[0;34m,\u001b[0m \u001b[0mkey\u001b[0m\u001b[0;34m)\u001b[0m\u001b[0;34m\u001b[0m\u001b[0m\n\u001b[0m\u001b[1;32m    768\u001b[0m \u001b[0;34m\u001b[0m\u001b[0m\n\u001b[1;32m    769\u001b[0m             \u001b[0;32mif\u001b[0m \u001b[0;32mnot\u001b[0m \u001b[0mis_scalar\u001b[0m\u001b[0;34m(\u001b[0m\u001b[0mresult\u001b[0m\u001b[0;34m)\u001b[0m\u001b[0;34m:\u001b[0m\u001b[0;34m\u001b[0m\u001b[0m\n",
      "\u001b[0;32m/usr/local/lib/python3.6/dist-packages/pandas/core/indexes/base.py\u001b[0m in \u001b[0;36mget_value\u001b[0;34m(self, series, key)\u001b[0m\n\u001b[1;32m   3130\u001b[0m                     \u001b[0;32mraise\u001b[0m \u001b[0mInvalidIndexError\u001b[0m\u001b[0;34m(\u001b[0m\u001b[0mkey\u001b[0m\u001b[0;34m)\u001b[0m\u001b[0;34m\u001b[0m\u001b[0m\n\u001b[1;32m   3131\u001b[0m                 \u001b[0;32melse\u001b[0m\u001b[0;34m:\u001b[0m\u001b[0;34m\u001b[0m\u001b[0m\n\u001b[0;32m-> 3132\u001b[0;31m                     \u001b[0;32mraise\u001b[0m \u001b[0me1\u001b[0m\u001b[0;34m\u001b[0m\u001b[0m\n\u001b[0m\u001b[1;32m   3133\u001b[0m             \u001b[0;32mexcept\u001b[0m \u001b[0mException\u001b[0m\u001b[0;34m:\u001b[0m  \u001b[0;31m# pragma: no cover\u001b[0m\u001b[0;34m\u001b[0m\u001b[0m\n\u001b[1;32m   3134\u001b[0m                 \u001b[0;32mraise\u001b[0m \u001b[0me1\u001b[0m\u001b[0;34m\u001b[0m\u001b[0m\n",
      "\u001b[0;32m/usr/local/lib/python3.6/dist-packages/pandas/core/indexes/base.py\u001b[0m in \u001b[0;36mget_value\u001b[0;34m(self, series, key)\u001b[0m\n\u001b[1;32m   3116\u001b[0m         \u001b[0;32mtry\u001b[0m\u001b[0;34m:\u001b[0m\u001b[0;34m\u001b[0m\u001b[0m\n\u001b[1;32m   3117\u001b[0m             return self._engine.get_value(s, k,\n\u001b[0;32m-> 3118\u001b[0;31m                                           tz=getattr(series.dtype, 'tz', None))\n\u001b[0m\u001b[1;32m   3119\u001b[0m         \u001b[0;32mexcept\u001b[0m \u001b[0mKeyError\u001b[0m \u001b[0;32mas\u001b[0m \u001b[0me1\u001b[0m\u001b[0;34m:\u001b[0m\u001b[0;34m\u001b[0m\u001b[0m\n\u001b[1;32m   3120\u001b[0m             \u001b[0;32mif\u001b[0m \u001b[0mlen\u001b[0m\u001b[0;34m(\u001b[0m\u001b[0mself\u001b[0m\u001b[0;34m)\u001b[0m \u001b[0;34m>\u001b[0m \u001b[0;36m0\u001b[0m \u001b[0;32mand\u001b[0m \u001b[0mself\u001b[0m\u001b[0;34m.\u001b[0m\u001b[0minferred_type\u001b[0m \u001b[0;32min\u001b[0m \u001b[0;34m[\u001b[0m\u001b[0;34m'integer'\u001b[0m\u001b[0;34m,\u001b[0m \u001b[0;34m'boolean'\u001b[0m\u001b[0;34m]\u001b[0m\u001b[0;34m:\u001b[0m\u001b[0;34m\u001b[0m\u001b[0m\n",
      "\u001b[0;32mpandas/_libs/index.pyx\u001b[0m in \u001b[0;36mpandas._libs.index.IndexEngine.get_value\u001b[0;34m()\u001b[0m\n",
      "\u001b[0;32mpandas/_libs/index.pyx\u001b[0m in \u001b[0;36mpandas._libs.index.IndexEngine.get_value\u001b[0;34m()\u001b[0m\n",
      "\u001b[0;32mpandas/_libs/index.pyx\u001b[0m in \u001b[0;36mpandas._libs.index.IndexEngine.get_loc\u001b[0;34m()\u001b[0m\n",
      "\u001b[0;32mpandas/_libs/hashtable_class_helper.pxi\u001b[0m in \u001b[0;36mpandas._libs.hashtable.PyObjectHashTable.get_item\u001b[0;34m()\u001b[0m\n",
      "\u001b[0;32mpandas/_libs/hashtable_class_helper.pxi\u001b[0m in \u001b[0;36mpandas._libs.hashtable.PyObjectHashTable.get_item\u001b[0;34m()\u001b[0m\n",
      "\u001b[0;31mKeyError\u001b[0m: 'date'"
     ],
     "output_type": "error"
    }
   ],
   "source": [
    "print(data[0]['date'])"
   ]
  },
  {
   "cell_type": "code",
   "execution_count": 3,
   "metadata": {},
   "outputs": [
    {
     "name": "stdout",
     "output_type": "stream",
     "text": [
      "272217\n"
     ]
    }
   ],
   "source": [
    "print(len(data))\n",
    "text=list()\n",
    "text.append(data[0])\n",
    "text.append(data[1])\n"
   ]
  },
  {
   "cell_type": "code",
   "execution_count": 4,
   "metadata": {},
   "outputs": [],
   "source": [
    "stemmer = SnowballStemmer(\"english\", ignore_stopwords=True)\n",
    "    ##setting up and extending stopwords\n",
    "stop = stopwords.words('english')\n",
    "stop.extend(\n",
    "    ['nevertheless', 'would', 'nether''the', 'in', 'may', 'also', 'zero', 'one', 'two', 'three', 'four', 'five',\n",
    "     'six', 'seven', 'eight', 'nine', 'ten', 'quot', 'across', 'among', 'beside', 'however', 'yet',\n",
    "     'within', '1', '2', '3', '4', '5', '6', '7', '8', '9'] + list(ascii_lowercase))\n",
    "\n",
    "tokens = []\n",
    "for statement in text:\n",
    "    words = word_tokenize(statement.lower())\n",
    "    words_clean = []\n",
    "    for word in words:\n",
    "        if word not in stop:\n",
    "            words_clean.append(stemmer.stem(word))\n",
    "    tokens.append(words_clean)"
   ]
  },
  {
   "cell_type": "code",
   "execution_count": 10,
   "metadata": {},
   "outputs": [
    {
     "data": {
      "text/plain": [
       "2"
      ]
     },
     "execution_count": 10,
     "metadata": {},
     "output_type": "execute_result"
    }
   ],
   "source": [
    "n=3\n",
    "all_trigrams=list()\n",
    "text_trigram=list()\n",
    "for token_group in tokens:\n",
    "    trigram_group = list(nltk.ngrams(token_group, n))\n",
    "    text_trigram.append(trigram_group)\n",
    "    for trigram in trigram_group:\n",
    "        all_trigrams.append(trigram)\n"
   ]
  },
  {
   "cell_type": "code",
   "execution_count": 22,
   "metadata": {},
   "outputs": [
    {
     "name": "stdout",
     "output_type": "stream",
     "text": [
      "0.011170000000000001\n",
      "[('speaker', 'move', 'suspend'), ('move', 'suspend', 'rule'), ('suspend', 'rule', 'pass'), ('rule', 'pass', 'bill'), ('pass', 'bill', 'hr'), ('bill', 'hr', '3980'), ('hr', '3980', 'provid'), ('3980', 'provid', 'identifi'), ('provid', 'identifi', 'elimin'), ('identifi', 'elimin', 'redund'), ('elimin', 'redund', 'report'), ('redund', 'report', 'requir'), ('report', 'requir', 'develop'), ('requir', 'develop', 'meaning'), ('develop', 'meaning', 'perform'), ('meaning', 'perform', 'metric'), ('perform', 'metric', 'homeland'), ('metric', 'homeland', 'secur'), ('homeland', 'secur', 'prepared'), ('secur', 'prepared', 'grant'), ('prepared', 'grant', 'purpos'), ('grant', 'purpos', 'amend'), ('purpos', 'amend', 'clerk'), ('amend', 'clerk', 'read'), ('clerk', 'read', 'titl'), ('read', 'titl', 'bill'), ('titl', 'bill', 'text'), ('bill', 'text', 'bill'), ('text', 'bill', 'follow'), ('bill', 'follow', 'hr'), ('follow', 'hr', '3980'), ('hr', '3980', 'enact'), ('3980', 'enact', 'senat'), ('enact', 'senat', 'hous'), ('senat', 'hous', 'repres'), ('hous', 'repres', 'unit'), ('repres', 'unit', 'state'), ('unit', 'state', 'america'), ('state', 'america', 'congress'), ('america', 'congress', 'assembl'), ('congress', 'assembl', 'section'), ('assembl', 'section', 'short'), ('section', 'short', 'titl'), ('short', 'titl', 'act'), ('titl', 'act', 'cite'), ('act', 'cite', 'redund'), ('cite', 'redund', 'elimin'), ('redund', 'elimin', 'enhanc'), ('elimin', 'enhanc', 'perform'), ('enhanc', 'perform', 'prepared'), ('perform', 'prepared', 'grant'), ('prepared', 'grant', 'act'), ('grant', 'act', 'sec'), ('act', 'sec', 'identif'), ('sec', 'identif', 'report'), ('identif', 'report', 'redund'), ('report', 'redund', 'develop'), ('redund', 'develop', 'perform'), ('develop', 'perform', 'metric'), ('prepared', 'grant', 'program'), ('grant', 'program', 'generaltitl'), ('program', 'generaltitl', 'xx'), ('generaltitl', 'xx', 'homeland'), ('xx', 'homeland', 'secur'), ('homeland', 'secur', 'act'), ('secur', 'act', '2002'), ('act', '2002', 'usc'), ('2002', 'usc', '601'), ('usc', '601', 'et'), ('601', 'et', 'seq'), ('et', 'seq', 'amend'), ('seq', 'amend', 'ad'), ('amend', 'ad', 'end'), ('ad', 'end', 'follow'), ('end', 'follow', 'new'), ('follow', 'new', 'section'), ('new', 'section', 'sec'), ('section', 'sec', '2023'), ('sec', '2023', 'identif'), ('2023', 'identif', 'report'), ('perform', 'metric', 'generalth'), ('metric', 'generalth', 'administr'), ('generalth', 'administr', 'shall'), ('administr', 'shall', 'grant'), ('shall', 'grant', 'section'), ('grant', 'section', '2003'), ('section', '2003', '2004'), ('2003', '2004', 'grant'), ('2004', 'grant', 'specifi'), ('grant', 'specifi', 'administr'), ('specifi', 'administr', 'submit'), ('administr', 'submit', 'report'), ('submit', 'report', 'appropri'), ('report', 'appropri', 'committe'), ('appropri', 'committe', 'congress'), ('committe', 'congress', 'later'), ('congress', 'later', '120'), ('later', '120', 'day'), ('120', 'day', 'date'), ('day', 'date', 'enact'), ('date', 'enact', 'redund'), ('enact', 'redund', 'elimin'), ('grant', 'act', 'octob'), ('act', 'octob', '1st'), ('octob', '1st', 'everi'), ('1st', 'everi', 'year'), ('everi', 'year', 'thereaft'), ('year', 'thereaft', 'identifi'), ('thereaft', 'identifi', 'redund'), ('identifi', 'redund', 'rule'), ('redund', 'rule', 'regul'), ('rule', 'regul', 'requir'), ('regul', 'requir', 'report'), ('requir', 'report', 'recipi'), ('report', 'recipi', 'grant'), ('recipi', 'grant', 'includ'), ('grant', 'includ', 'plan'), ('includ', 'plan', 'elimin'), ('plan', 'elimin', 'identifi'), ('elimin', 'identifi', 'redund'), ('identifi', 'redund', 'requir'), ('redund', 'requir', 'includ'), ('requir', 'includ', 'plan'), ('includ', 'plan', 'develop'), ('plan', 'develop', 'improv'), ('develop', 'improv', 'perform'), ('improv', 'perform', 'metric'), ('perform', 'metric', 'requir'), ('metric', 'requir', 'section'), ('requir', 'section', '2022a4'), ('section', '2022a4', 'grant'), ('2022a4', 'grant', 'includ'), ('grant', 'includ', 'assess'), ('includ', 'assess', 'program'), ('assess', 'program', 'grant'), ('program', 'grant', 'award'), ('grant', 'award', 'plan'), ('award', 'plan', 'requirementseach'), ('plan', 'requirementseach', 'plan'), ('requirementseach', 'plan', 'subsect'), ('plan', 'subsect', 'shall'), ('subsect', 'shall', 'develop'), ('shall', 'develop', 'coordin'), ('develop', 'coordin', 'state'), ('coordin', 'state', 'local'), ('state', 'local', 'tribal'), ('local', 'tribal', 'territori'), ('tribal', 'territori', 'govern'), ('territori', 'govern', 'shall'), ('govern', 'shall', 'includ'), ('shall', 'includ', 'propos'), ('includ', 'propos', 'timelin'), ('propos', 'timelin', 'action'), ('timelin', 'action', 'implement'), ('action', 'implement', 'plan'), ('implement', 'plan', 'program'), ('plan', 'program', 'assess'), ('program', 'assess', 'requirementseach'), ('assess', 'requirementseach', 'program'), ('requirementseach', 'program', 'assess'), ('program', 'assess', 'subsect'), ('assess', 'subsect', 'a3'), ('subsect', 'a3', 'shall'), ('a3', 'shall', 'includ'), ('shall', 'includ', 'brief'), ('includ', 'brief', 'summari'), ('brief', 'summari', 'program'), ('summari', 'program', 'purpos'), ('program', 'purpos', 'object'), ('purpos', 'object', 'perform'), ('object', 'perform', 'goal'), ('perform', 'goal', 'key'), ('goal', 'key', 'find'), ('key', 'find', 'assess'), ('find', 'assess', 'assess'), ('assess', 'assess', 'qualiti'), ('assess', 'qualiti', 'program'), ('qualiti', 'program', 'perform'), ('program', 'perform', 'metric'), ('perform', 'metric', 'extent'), ('metric', 'extent', 'necessari'), ('extent', 'necessari', 'perform'), ('necessari', 'perform', 'data'), ('perform', 'data', 'collect'), ('data', 'collect', 'summari'), ('collect', 'summari', 'program'), ('summari', 'program', 'strength'), ('program', 'strength', 'weak'), ('strength', 'weak', 'imped'), ('weak', 'imped', 'contribut'), ('imped', 'contribut', 'failur'), ('contribut', 'failur', 'success'), ('failur', 'success', 'includ'), ('success', 'includ', 'reason'), ('includ', 'reason', 'substanti'), ('reason', 'substanti', 'variat'), ('substanti', 'variat', 'target'), ('variat', 'target', 'level'), ('target', 'level', 'perform'), ('level', 'perform', 'program'), ('perform', 'program', 'descript'), ('program', 'descript', 'extent'), ('descript', 'extent', 'trend'), ('extent', 'trend', 'develop'), ('trend', 'develop', 'emerg'), ('develop', 'emerg', 'condit'), ('emerg', 'condit', 'affect'), ('condit', 'affect', 'need'), ('affect', 'need', 'chang'), ('need', 'chang', 'mission'), ('chang', 'mission', 'program'), ('mission', 'program', 'way'), ('program', 'way', 'program'), ('way', 'program', 'carri'), ('program', 'carri', 'identif'), ('carri', 'identif', 'best'), ('identif', 'best', 'practic'), ('best', 'practic', 'use'), ('practic', 'use', 'program'), ('use', 'program', 'alloc'), ('program', 'alloc', 'resourc'), ('alloc', 'resourc', 'effici'), ('resourc', 'effici', 'effect'), ('effici', 'effect', 'manner'), ('effect', 'manner', 'result'), ('manner', 'result', 'posit'), ('result', 'posit', 'outcom'), ('posit', 'outcom', 'key'), ('outcom', 'key', 'reason'), ('key', 'reason', 'practic'), ('reason', 'practic', 'result'), ('practic', 'result', 'posit'), ('posit', 'outcom', 'recommend'), ('outcom', 'recommend', 'program'), ('recommend', 'program', 'modif'), ('program', 'modif', 'improv'), ('modif', 'improv', 'result'), ('improv', 'result', 'program'), ('result', 'program', 'achiev'), ('program', 'achiev', 'summari'), ('achiev', 'summari', 'key'), ('summari', 'key', 'result'), ('key', 'result', 'program'), ('result', 'program', 'assess'), ('program', 'assess', 'support'), ('assess', 'support', 'maxim'), ('support', 'maxim', 'amount'), ('maxim', 'amount', 'fund'), ('amount', 'fund', 'appropri'), ('fund', 'appropri', 'program'), ('appropri', 'program', 'assess'), ('program', 'assess', 'qualiti'), ('assess', 'qualiti', 'custom'), ('qualiti', 'custom', 'servic'), ('custom', 'servic', 'offer'), ('servic', 'offer', 'recipi'), ('offer', 'recipi', 'fund'), ('recipi', 'fund', 'program'), ('fund', 'program', 'strategi'), ('program', 'strategi', 'improv'), ('strategi', 'improv', 'servic'), ('improv', 'servic', 'cleric'), ('servic', 'cleric', 'amendmentth'), ('cleric', 'amendmentth', 'tabl'), ('amendmentth', 'tabl', 'content'), ('tabl', 'content', 'section'), ('content', 'section', '1b'), ('section', '1b', 'act'), ('1b', 'act', 'amend'), ('act', 'amend', 'ad'), ('ad', 'end', 'item'), ('end', 'item', 'relat'), ('item', 'relat', 'titl'), ('relat', 'titl', 'xx'), ('titl', 'xx', 'follow'), ('xx', 'follow', 'new'), ('follow', 'new', 'item'), ('new', 'item', 'sec'), ('item', 'sec', '2023'), ('perform', 'metric', 'speaker'), ('metric', 'speaker', 'ask'), ('speaker', 'ask', 'unanim'), ('ask', 'unanim', 'consent'), ('unanim', 'consent', 'member'), ('consent', 'member', 'legisl'), ('member', 'legisl', 'day'), ('legisl', 'day', 'revis'), ('day', 'revis', 'extend'), ('revis', 'extend', 'remark'), ('extend', 'remark', 'insert'), ('remark', 'insert', 'extran'), ('insert', 'extran', 'materi'), ('extran', 'materi', 'bill'), ('materi', 'bill', 'consider'), ('bill', 'consider', 'speaker'), ('consider', 'speaker', 'rise'), ('speaker', 'rise', 'support'), ('rise', 'support', 'bill'), ('support', 'bill', 'yield'), ('bill', 'yield', 'time'), ('yield', 'time', 'consum'), ('time', 'consum', 'mr'), ('consum', 'mr', 'speaker'), ('mr', 'speaker', 'congress'), ('speaker', 'congress', 'instruct'), ('congress', 'instruct', 'fema'), ('instruct', 'fema', 'postkatrina'), ('fema', 'postkatrina', 'emerg'), ('postkatrina', 'emerg', 'manag'), ('emerg', 'manag', 'reform'), ('manag', 'reform', 'act'), ('reform', 'act', '2006'), ('act', '2006', 'implement'), ('2006', 'implement', 'recommend'), ('implement', 'recommend', '911'), ('recommend', '911', 'commiss'), ('911', 'commiss', 'act'), ('commiss', 'act', '2007'), ('act', '2007', 'develop'), ('2007', 'develop', 'perform'), ('homeland', 'secur', 'grant'), ('secur', 'grant', 'program'), ('grant', 'program', 'hous'), ('program', 'hous', 'committe'), ('hous', 'committe', 'homeland'), ('committe', 'homeland', 'secur'), ('homeland', 'secur', 'discov'), ('secur', 'discov', 'octob'), ('discov', 'octob', '27'), ('octob', '27', 'subcommitte'), ('27', 'subcommitte', 'hear'), ('subcommitte', 'hear', 'held'), ('hear', 'held', 'rank'), ('held', 'rank', 'member'), ('rank', 'member', 'hear'), ('member', 'hear', 'emerg'), ('hear', 'emerg', 'communic'), ('emerg', 'communic', 'requir'), ('communic', 'requir', 'remain'), ('requir', 'remain', 'poor'), ('remain', 'poor', 'implement'), ('poor', 'implement', 'difficult'), ('implement', 'difficult', 'comprehend'), ('difficult', 'comprehend', 'disconcert'), ('comprehend', 'disconcert', 'fema'), ('disconcert', 'fema', 'still'), ('fema', 'still', 'determin'), ('still', 'determin', 'nation'), ('determin', 'nation', 'overal'), ('nation', 'overal', 'prepared'), ('overal', 'prepared', 'homeland'), ('prepared', 'homeland', 'secur'), ('secur', 'grant', 'help'), ('grant', 'help', 'protect'), ('help', 'protect', 'nation'), ('protect', 'nation', 'act'), ('nation', 'act', 'terror'), ('act', 'terror', 'reason'), ('terror', 'reason', 'come'), ('reason', 'come', 'today'), ('come', 'today', 'ask'), ('today', 'ask', 'support'), ('ask', 'support', 'hr'), ('support', 'hr', '3980'), ('hr', '3980', 'redund'), ('3980', 'redund', 'elimin'), ('grant', 'act', 'legisl'), ('act', 'legisl', 'requir'), ('legisl', 'requir', 'fema'), ('requir', 'fema', 'work'), ('fema', 'work', 'conjunct'), ('work', 'conjunct', 'state'), ('conjunct', 'state', 'local'), ('tribal', 'territori', 'stakehold'), ('territori', 'stakehold', 'develop'), ('stakehold', 'develop', 'plan'), ('develop', 'plan', 'follow'), ('plan', 'follow', 'thing'), ('follow', 'thing', 'streamlin'), ('thing', 'streamlin', 'homeland'), ('streamlin', 'homeland', 'secur'), ('secur', 'grant', 'report'), ('grant', 'report', 'requir'), ('report', 'requir', 'rule'), ('requir', 'rule', 'regul'), ('rule', 'regul', 'elimin'), ('regul', 'elimin', 'redund'), ('redund', 'report', 'creat'), ('report', 'creat', 'strategi'), ('creat', 'strategi', 'includ'), ('strategi', 'includ', 'timet'), ('includ', 'timet', 'establish'), ('timet', 'establish', 'much'), ('establish', 'much', 'need'), ('much', 'need', 'perform'), ('need', 'perform', 'metric'), ('perform', 'metric', 'grant'), ('metric', 'grant', 'program'), ('grant', 'program', 'ensur'), ('program', 'ensur', 'fund'), ('ensur', 'fund', 'direct'), ('fund', 'direct', 'area'), ('direct', 'area', 'best'), ('area', 'best', 'spent'), ('best', 'spent', 'requir'), ('spent', 'requir', 'fema'), ('requir', 'fema', 'take'), ('fema', 'take', 'inventori'), ('take', 'inventori', 'homeland'), ('inventori', 'homeland', 'secur'), ('grant', 'program', 'includ'), ('program', 'includ', 'purpos'), ('includ', 'purpos', 'object'), ('perform', 'goal', 'plan'), ('goal', 'plan', 'submit'), ('plan', 'submit', 'appropri'), ('submit', 'appropri', 'congression'), ('appropri', 'congression', 'committe'), ('congression', 'committe', 'later'), ('committe', 'later', '120'), ('120', 'day', 'bill'), ('day', 'bill', 'enact'), ('bill', 'enact', 'updat'), ('enact', 'updat', 'biannual'), ('updat', 'biannual', 'ensur'), ('biannual', 'ensur', 'committe'), ('ensur', 'committe', 'abl'), ('committe', 'abl', 'maintain'), ('abl', 'maintain', 'watch'), ('maintain', 'watch', 'eye'), ('watch', 'eye', 'oversight'), ('eye', 'oversight', 'redund'), ('oversight', 'redund', 'law'), ('redund', 'law', 'might'), ('law', 'might', 'confus'), ('might', 'confus', 'grant'), ('confus', 'grant', 'recipi'), ('grant', 'recipi', 'local'), ('recipi', 'local', 'level'), ('local', 'level', 'bill'), ('level', 'bill', 'help'), ('bill', 'help', 'identifi'), ('help', 'identifi', 'ineffici'), ('identifi', 'ineffici', 'dhs'), ('ineffici', 'dhs', 'grant'), ('dhs', 'grant', 'program'), ('grant', 'program', 'bill'), ('program', 'bill', 'increas'), ('bill', 'increas', 'qualiti'), ('increas', 'qualiti', 'servic'), ('qualiti', 'servic', 'receiv'), ('servic', 'receiv', 'dhs'), ('receiv', 'dhs', 'grant'), ('dhs', 'grant', 'recipi'), ('grant', 'recipi', 'urg'), ('recipi', 'urg', 'colleagu'), ('urg', 'colleagu', 'support'), ('colleagu', 'support', 'import'), ('support', 'import', 'legisl'), ('import', 'legisl', 'hous'), ('legisl', 'hous', 'repres'), ('hous', 'repres', 'committe'), ('repres', 'committe', 'transport'), ('committe', 'transport', 'infrastructur'), ('transport', 'infrastructur', 'washington'), ('infrastructur', 'washington', 'dc'), ('washington', 'dc', 'decemb'), ('dc', 'decemb', '2009'), ('decemb', '2009', 'hon'), ('2009', 'hon', 'benni'), ('hon', 'benni', 'thompson'), ('benni', 'thompson', 'chairman'), ('thompson', 'chairman', 'committe'), ('chairman', 'committe', 'homeland'), ('homeland', 'secur', 'washington'), ('secur', 'washington', 'dc'), ('washington', 'dc', 'dear'), ('dc', 'dear', 'chairman'), ('dear', 'chairman', 'thompson'), ('chairman', 'thompson', 'write'), ('thompson', 'write', 'regard'), ('write', 'regard', 'hr'), ('regard', 'hr', '3980'), ('grant', 'act', 'hr'), ('act', 'hr', '3980'), ('hr', '3980', 'contain'), ('3980', 'contain', 'provis'), ('contain', 'provis', 'fall'), ('provis', 'fall', 'jurisdict'), ('fall', 'jurisdict', 'committe'), ('jurisdict', 'committe', 'transport'), ('transport', 'infrastructur', 'recogn'), ('infrastructur', 'recogn', 'appreci'), ('recogn', 'appreci', 'desir'), ('appreci', 'desir', 'bring'), ('desir', 'bring', 'legisl'), ('bring', 'legisl', 'hous'), ('legisl', 'hous', 'expediti'), ('hous', 'expediti', 'manner'), ('expediti', 'manner', 'accord'), ('manner', 'accord', 'seek'), ('accord', 'seek', 'sequenti'), ('seek', 'sequenti', 'referr'), ('sequenti', 'referr', 'bill'), ('referr', 'bill', 'agre'), ('bill', 'agre', 'waiv'), ('agre', 'waiv', 'consider'), ('waiv', 'consider', 'bill'), ('consider', 'bill', 'mutual'), ('bill', 'mutual', 'understand'), ('mutual', 'understand', 'decis'), ('understand', 'decis', 'forgo'), ('decis', 'forgo', 'sequenti'), ('forgo', 'sequenti', 'referr'), ('referr', 'bill', 'waiv'), ('bill', 'waiv', 'reduc'), ('waiv', 'reduc', 'otherwis'), ('reduc', 'otherwis', 'affect'), ('otherwis', 'affect', 'jurisdict'), ('affect', 'jurisdict', 'committe'), ('transport', 'infrastructur', 'hr'), ('infrastructur', 'hr', '3980'), ('hr', '3980', 'committe'), ('3980', 'committe', 'transport'), ('transport', 'infrastructur', 'reserv'), ('infrastructur', 'reserv', 'right'), ('reserv', 'right', 'seek'), ('right', 'seek', 'appoint'), ('seek', 'appoint', 'confere'), ('appoint', 'confere', 'housesen'), ('confere', 'housesen', 'confer'), ('housesen', 'confer', 'conven'), ('confer', 'conven', 'legisl'), ('conven', 'legisl', 'provis'), ('legisl', 'provis', 'bill'), ('provis', 'bill', 'committe'), ('bill', 'committe', 'jurisdict'), ('committe', 'jurisdict', 'ask'), ('jurisdict', 'ask', 'commit'), ('ask', 'commit', 'support'), ('commit', 'support', 'request'), ('support', 'request', 'committe'), ('request', 'committe', 'transport'), ('transport', 'infrastructur', 'appoint'), ('infrastructur', 'appoint', 'confere'), ('appoint', 'confere', 'hr'), ('confere', 'hr', '3980'), ('hr', '3980', 'similar'), ('3980', 'similar', 'legisl'), ('similar', 'legisl', 'pleas'), ('legisl', 'pleas', 'place'), ('pleas', 'place', 'copi'), ('place', 'copi', 'letter'), ('copi', 'letter', 'respons'), ('letter', 'respons', 'acknowledg'), ('respons', 'acknowledg', 'committe'), ('acknowledg', 'committe', 'transport'), ('transport', 'infrastructur', 'jurisdict'), ('infrastructur', 'jurisdict', 'interest'), ('jurisdict', 'interest', 'committe'), ('interest', 'committe', 'report'), ('committe', 'report', 'hr'), ('report', 'hr', '3980'), ('hr', '3980', 'congression'), ('3980', 'congression', 'record'), ('congression', 'record', 'consider'), ('record', 'consider', 'measur'), ('consider', 'measur', 'hous'), ('measur', 'hous', 'look'), ('hous', 'look', 'forward'), ('look', 'forward', 'work'), ('forward', 'work', 'prepar'), ('work', 'prepar', 'pass'), ('prepar', 'pass', 'import'), ('pass', 'import', 'legisl'), ('import', 'legisl', 'sincer'), ('legisl', 'sincer', 'jame'), ('sincer', 'jame', 'oberstar'), ('jame', 'oberstar', 'chairman'), ('oberstar', 'chairman', 'hous'), ('chairman', 'hous', 'repres'), ('repres', 'committe', 'homeland'), ('2009', 'hon', 'jame'), ('hon', 'jame', 'oberstar'), ('oberstar', 'chairman', 'committe'), ('chairman', 'committe', 'transport'), ('transport', 'infrastructur', 'hous'), ('infrastructur', 'hous', 'repres'), ('hous', 'repres', 'washington'), ('repres', 'washington', 'dc'), ('dear', 'chairman', 'oberstar'), ('chairman', 'oberstar', 'thank'), ('oberstar', 'thank', 'letter'), ('thank', 'letter', 'regard'), ('letter', 'regard', 'hr'), ('grant', 'act', 'introduc'), ('act', 'introduc', 'congressman'), ('introduc', 'congressman', 'henri'), ('congressman', 'henri', 'cuellar'), ('henri', 'cuellar', 'novemb'), ('cuellar', 'novemb', '2009'), ('novemb', '2009', 'appreci'), ('2009', 'appreci', 'willing'), ('appreci', 'willing', 'work'), ('willing', 'work', 'cooper'), ('work', 'cooper', 'legisl'), ('cooper', 'legisl', 'acknowledg'), ('legisl', 'acknowledg', 'committe'), ('jurisdict', 'interest', 'certain'), ('interest', 'certain', 'provis'), ('certain', 'provis', 'hr'), ('provis', 'hr', '3980'), ('hr', '3980', 'appreci'), ('3980', 'appreci', 'agreement'), ('appreci', 'agreement', 'seek'), ('agreement', 'seek', 'sequenti'), ('sequenti', 'referr', 'legisl'), ('referr', 'legisl', 'acknowledg'), ('legisl', 'acknowledg', 'decis'), ('acknowledg', 'decis', 'forgo'), ('sequenti', 'referr', 'waiv'), ('referr', 'waiv', 'alter'), ('waiv', 'alter', 'otherwis'), ('alter', 'otherwis', 'affect'), ('infrastructur', 'recogn', 'committe'), ('recogn', 'committe', 'reserv'), ('committe', 'reserv', 'right'), ('appoint', 'confere', 'bill'), ('confere', 'bill', 'portion'), ('bill', 'portion', 'bill'), ('portion', 'bill', 'committe'), ('committe', 'jurisdict', 'interest'), ('jurisdict', 'interest', 'agre'), ('interest', 'agre', 'support'), ('agre', 'support', 'request'), ('support', 'request', 'ensur'), ('request', 'ensur', 'exchang'), ('ensur', 'exchang', 'letter'), ('exchang', 'letter', 'includ'), ('letter', 'includ', 'legisl'), ('includ', 'legisl', 'report'), ('legisl', 'report', 'hr'), ('congression', 'record', 'floor'), ('record', 'floor', 'consider'), ('floor', 'consider', 'bill'), ('consider', 'bill', 'look'), ('bill', 'look', 'forward'), ('forward', 'work', 'legisl'), ('work', 'legisl', 'matter'), ('legisl', 'matter', 'great'), ('matter', 'great', 'import'), ('great', 'import', 'nation'), ('import', 'nation', 'sincer'), ('nation', 'sincer', 'benni'), ('sincer', 'benni', 'thompson'), ('thompson', 'chairman', 'reserv'), ('chairman', 'reserv', 'balanc'), ('reserv', 'balanc', 'time'), ('balanc', 'time', 'mr'), ('time', 'mr', 'speaker'), ('presid', 'ask', 'unanim'), ('unanim', 'consent', 'order'), ('consent', 'order', 'quorum'), ('order', 'quorum', 'call'), ('quorum', 'call', 'rescind'), ('call', 'rescind', 'presid'), ('rescind', 'presid', 'divis'), ('presid', 'divis', 'omnibus'), ('divis', 'omnibus', 'confer'), ('omnibus', 'confer', 'agreement'), ('confer', 'agreement', 'provid'), ('agreement', 'provid', 'fund'), ('provid', 'fund', 'state'), ('fund', 'state', 'depart'), ('state', 'depart', 'foreign'), ('depart', 'foreign', 'oper'), ('foreign', 'oper', 'relat'), ('oper', 'relat', 'program'), ('relat', 'program', 'want'), ('program', 'want', 'thank'), ('want', 'thank', 'rank'), ('thank', 'rank', 'member'), ('rank', 'member', 'subcommitte'), ('member', 'subcommitte', 'senat'), ('subcommitte', 'senat', 'gregg'), ('senat', 'gregg', 'capabl'), ('gregg', 'capabl', 'staff'), ('capabl', 'staff', 'paul'), ('staff', 'paul', 'grove'), ('paul', 'grove', 'michel'), ('grove', 'michel', 'wymer'), ('michel', 'wymer', 'work'), ('wymer', 'work', 'staff'), ('work', 'staff', 'bipartisan'), ('staff', 'bipartisan', 'manner'), ('bipartisan', 'manner', 'produc'), ('manner', 'produc', 'confer'), ('produc', 'confer', 'agreement'), ('confer', 'agreement', 'want'), ('agreement', 'want', 'thank'), ('want', 'thank', 'chairwoman'), ('thank', 'chairwoman', 'nita'), ('chairwoman', 'nita', 'lowey'), ('nita', 'lowey', 'rank'), ('lowey', 'rank', 'member'), ('rank', 'member', 'kay'), ('member', 'kay', 'granger'), ('kay', 'granger', 'staff'), ('granger', 'staff', 'work'), ('staff', 'work', 'cooper'), ('work', 'cooper', 'us'), ('cooper', 'us', 'throughout'), ('us', 'throughout', 'process'), ('throughout', 'process', 'fiscal'), ('process', 'fiscal', 'year'), ('fiscal', 'year', '2010'), ('year', '2010', 'state'), ('2010', 'state', 'foreign'), ('state', 'foreign', 'oper'), ('foreign', 'oper', 'confer'), ('oper', 'confer', 'agreement'), ('agreement', 'provid', '488'), ('provid', '488', 'billion'), ('488', 'billion', 'discretionari'), ('billion', 'discretionari', 'fund'), ('discretionari', 'fund', '33'), ('fund', '33', 'billion'), ('33', 'billion', 'decreas'), ('billion', 'decreas', 'presid'), ('decreas', 'presid', 'budget'), ('presid', 'budget', 'request'), ('budget', 'request', '52'), ('request', '52', 'billion'), ('52', 'billion', 'bill'), ('billion', 'bill', '12'), ('bill', '12', 'billion'), ('12', 'billion', 'fiscal'), ('billion', 'fiscal', 'year'), ('fiscal', 'year', '2009'), ('year', '2009', 'level'), ('2009', 'level', 'includ'), ('level', 'includ', 'supplement'), ('includ', 'supplement', 'fund'), ('supplement', 'fund', 'import'), ('fund', 'import', 'point'), ('import', 'point', 'need'), ('point', 'need', 'understood'), ('need', 'understood', 'senat'), ('understood', 'senat', 'yesterday'), ('senat', 'yesterday', 'senat'), ('yesterday', 'senat', 'side'), ('senat', 'side', 'aisl'), ('side', 'aisl', 'critic'), ('aisl', 'critic', 'bill'), ('critic', 'bill', '31'), ('bill', '31', 'percent'), ('31', 'percent', 'fiscal'), ('percent', 'fiscal', 'year'), ('year', '2009', 'mislead'), ('2009', 'mislead', 'account'), ('mislead', 'account', 'billion'), ('account', 'billion', 'dollar'), ('billion', 'dollar', 'fiscal'), ('dollar', 'fiscal', 'year'), ('year', '2009', 'emerg'), ('2009', 'emerg', 'supplement'), ('emerg', 'supplement', 'fund'), ('supplement', 'fund', 'standard'), ('fund', 'standard', 'way'), ('standard', 'way', 'busi'), ('way', 'busi', 'previous'), ('busi', 'previous', 'administr'), ('previous', 'administr', 'ignor'), ('administr', 'ignor', 'cost'), ('ignor', 'cost', 'american'), ('cost', 'american', 'taxpay'), ('american', 'taxpay', 'disingenu'), ('taxpay', 'disingenu', 'presid'), ('disingenu', 'presid', 'obama'), ('presid', 'obama', 'made'), ('obama', 'made', 'clear'), ('made', 'clear', 'intend'), ('clear', 'intend', 'fund'), ('intend', 'fund', 'program'), ('fund', 'program', 'budget'), ('program', 'budget', 'supplement'), ('budget', 'supplement', 'gimmick'), ('supplement', 'gimmick', 'congress'), ('gimmick', 'congress', 'urg'), ('congress', 'urg', 'critic'), ('urg', 'critic', 'compar'), ('critic', 'compar', 'appl'), ('compar', 'appl', 'appl'), ('appl', 'appl', 'bill'), ('appl', 'bill', 'provid'), ('bill', 'provid', '12'), ('provid', '12', 'billion'), ('12', 'billion', 'less'), ('billion', 'less', 'spend'), ('less', 'spend', 'fiscal'), ('spend', 'fiscal', 'year'), ('year', '2009', 'republican'), ('2009', 'republican', 'senat'), ('republican', 'senat', 'made'), ('senat', 'made', 'speech'), ('made', 'speech', 'omnibus'), ('speech', 'omnibus', 'packag'), ('omnibus', 'packag', 'account'), ('packag', 'account', 'earmark'), ('account', 'earmark', 'dont'), ('earmark', 'dont', 'like'), ('dont', 'like', 'even'), ('like', 'even', 'though'), ('even', 'though', 'request'), ('though', 'request', 'earmark'), ('request', 'earmark', 'fact'), ('earmark', 'fact', 'earmark'), ('fact', 'earmark', 'compris'), ('earmark', 'compris', 'tini'), ('compris', 'tini', 'fraction'), ('tini', 'fraction', 'total'), ('fraction', 'total', 'packag'), ('total', 'packag', 'like'), ('packag', 'like', 'past'), ('like', 'past', 'year'), ('past', 'year', 'stateforeign'), ('year', 'stateforeign', 'oper'), ('stateforeign', 'oper', 'confer'), ('confer', 'agreement', 'contain'), ('agreement', 'contain', 'earmark'), ('contain', 'earmark', 'defin'), ('earmark', 'defin', 'appropri'), ('defin', 'appropri', 'committe'), ('appropri', 'committe', 'fund'), ('committe', 'fund', 'mani'), ('fund', 'mani', 'program'), ('mani', 'program', 'prioriti'), ('program', 'prioriti', 'democrat'), ('prioriti', 'democrat', 'republican'), ('democrat', 'republican', 'includ'), ('republican', 'includ', 'assist'), ('includ', 'assist', 'countri'), ('assist', 'countri', 'like'), ('countri', 'like', 'afghanistan'), ('like', 'afghanistan', 'pakistan'), ('afghanistan', 'pakistan', 'iraq'), ('pakistan', 'iraq', 'longstand'), ('iraq', 'longstand', 'alli'), ('longstand', 'alli', 'like'), ('alli', 'like', 'israel'), ('like', 'israel', 'egypt'), ('israel', 'egypt', 'jordan'), ('egypt', 'jordan', 'addit'), ('jordan', 'addit', 'confer'), ('addit', 'confer', 'agreement'), ('agreement', 'provid', '57'), ('provid', '57', 'billion'), ('57', 'billion', 'combat'), ('billion', 'combat', 'hivaid'), ('combat', 'hivaid', 'includ'), ('hivaid', 'includ', '750'), ('includ', '750', 'million'), ('750', 'million', 'global'), ('million', 'global', 'fund'), ('global', 'fund', 'fund'), ('fund', 'fund', 'provid'), ('fund', 'provid', 'combat'), ('provid', 'combat', 'diseas'), ('combat', 'diseas', 'like'), ('diseas', 'like', 'malaria'), ('like', 'malaria', 'tuberculosi'), ('malaria', 'tuberculosi', 'neglect'), ('tuberculosi', 'neglect', 'tropic'), ('neglect', 'tropic', 'diseas'), ('tropic', 'diseas', 'agreement'), ('diseas', 'agreement', 'provid'), ('agreement', 'provid', '12'), ('12', 'billion', 'climat'), ('billion', 'climat', 'chang'), ('climat', 'chang', 'environ'), ('chang', 'environ', 'program'), ('environ', 'program', 'includ'), ('program', 'includ', 'clean'), ('includ', 'clean', 'energi'), ('clean', 'energi', 'program'), ('energi', 'program', 'protect'), ('program', 'protect', 'forest'), ('protect', 'forest', 'agreement'), ('forest', 'agreement', 'provid'), ('12', 'billion', 'agricultur'), ('billion', 'agricultur', 'food'), ('agricultur', 'food', 'secur'), ('food', 'secur', 'program'), ('secur', 'program', 'author'), ('program', 'author', 'provid'), ('author', 'provid', 'addit'), ('provid', 'addit', 'fund'), ('addit', 'fund', 'provis'), ('fund', 'provis', 'deal'), ('provis', 'deal', 'corrupt'), ('deal', 'corrupt', 'human'), ('corrupt', 'human', 'right'), ('human', 'right', 'fund'), ('right', 'fund', 'intern'), ('fund', 'intern', 'organ'), ('intern', 'organ', 'like'), ('organ', 'like', 'unit'), ('like', 'unit', 'nation'), ('unit', 'nation', 'nato'), ('nation', 'nato', 'intern'), ('nato', 'intern', 'atom'), ('intern', 'atom', 'energi'), ('atom', 'energi', 'agenc'), ('energi', 'agenc', 'promot'), ('agenc', 'promot', 'democraci'), ('promot', 'democraci', 'econom'), ('democraci', 'econom', 'develop'), ('econom', 'develop', 'rule'), ('develop', 'rule', 'law'), ('rule', 'law', 'central'), ('law', 'central', 'america'), ('central', 'america', 'central'), ('america', 'central', 'asia'), ('central', 'asia', 'confer'), ('asia', 'confer', 'agreement'), ('provid', 'fund', 'support'), ('fund', 'support', 'embassi'), ('support', 'embassi', 'diplomat'), ('embassi', 'diplomat', 'around'), ('diplomat', 'around', 'world'), ('around', 'world', 'public'), ('world', 'public', 'diplomaci'), ('public', 'diplomaci', 'broadcast'), ('diplomaci', 'broadcast', 'program'), ('broadcast', 'program', 'peac'), ('program', 'peac', 'corp'), ('peac', 'corp', 'mani'), ('corp', 'mani', 'program'), ('mani', 'program', 'promot'), ('program', 'promot', 'unit'), ('promot', 'unit', 'state'), ('unit', 'state', 'interest'), ('state', 'interest', 'dont'), ('interest', 'dont', 'support'), ('dont', 'support', 'everyth'), ('support', 'everyth', 'omnibus'), ('everyth', 'omnibus', 'packag'), ('omnibus', 'packag', 'anyon'), ('packag', 'anyon', 'els'), ('anyon', 'els', 'hope'), ('els', 'hope', 'know'), ('hope', 'know', 'chairman'), ('know', 'chairman', 'inouy'), ('chairman', 'inouy', 'vice'), ('inouy', 'vice', 'chairman'), ('vice', 'chairman', 'cochran'), ('chairman', 'cochran', 'could'), ('cochran', 'could', 'brought'), ('could', 'brought', 'bill'), ('brought', 'bill', 'omnibus'), ('bill', 'omnibus', 'includ'), ('omnibus', 'includ', 'stateforeign'), ('includ', 'stateforeign', 'oper'), ('stateforeign', 'oper', 'bill'), ('oper', 'bill', 'senat'), ('bill', 'senat', 'floor'), ('senat', 'floor', 'individu'), ('floor', 'individu', 'hand'), ('individu', 'hand', 'senat'), ('hand', 'senat', 'side'), ('senat', 'side', 'made'), ('side', 'made', 'clear'), ('made', 'clear', 'whatev'), ('clear', 'whatev', 'procedur'), ('whatev', 'procedur', 'possibl'), ('procedur', 'possibl', 'slow'), ('possibl', 'slow', 'prevent'), ('slow', 'prevent', 'consider'), ('prevent', 'consider', 'bill'), ('consider', 'bill', 'despit'), ('bill', 'despit', 'say'), ('despit', 'say', 'state'), ('say', 'state', 'foreign'), ('confer', 'agreement', 'negoti'), ('agreement', 'negoti', 'full'), ('negoti', 'full', 'particip'), ('full', 'particip', 'hous'), ('particip', 'hous', 'senat'), ('hous', 'senat', 'chairmen'), ('senat', 'chairmen', 'rank'), ('chairmen', 'rank', 'member'), ('rank', 'member', 'everi'), ('member', 'everi', 'sens'), ('everi', 'sens', 'collabor'), ('sens', 'collabor', 'process'), ('collabor', 'process', 'balanc'), ('process', 'balanc', 'agreement'), ('balanc', 'agreement', 'support'), ('agreement', 'support', 'everi'), ('support', 'everi', 'senat'), ('everi', 'senat', 'care'), ('senat', 'care', 'us'), ('care', 'us', 'secur'), ('us', 'secur', 'secur'), ('secur', 'secur', 'alli'), ('secur', 'alli', 'friend'), ('alli', 'friend', 'around'), ('friend', 'around', 'world')]\n"
     ]
    }
   ],
   "source": [
    "total=len(all_trigrams)\n",
    "cutoff = 0.00001 * total\n",
    "fdist = FreqDist(all_trigrams)\n",
    "# for k,v in fdist.items():\n",
    "#     print(k,v)\n",
    "print(cutoff)\n",
    "selected_trigrams={k: v for k, v in fdist.items() if v > cutoff}\n",
    "selected_trigrams=list(selected_trigrams.keys())"
   ]
  },
  {
   "cell_type": "code",
   "execution_count": 62,
   "metadata": {},
   "outputs": [],
   "source": [
    "binary_matrix = np.zeros(shape=(len(text_trigram), len(selected_trigrams)))\n",
    "frequency_matrix = np.zeros(shape=(len(text_trigram), len(selected_trigrams)))\n",
    "\n",
    "for index in range(0, len(text_trigram)):\n",
    "    for token in text_trigram[index]:\n",
    "        if token in selected_trigrams:\n",
    "            binary_matrix[index, selected_trigrams.index(token)] = 1\n",
    "            frequency_matrix[index, selected_trigrams.index(token)]=text_trigram[index].count(token)\n",
    "\n",
    "np.savetxt(\"binary_matrix.csv\", binary_matrix, delimiter=\",\")\n",
    "np.savetxt(\"frequency_matrix.csv\",frequency_matrix , delimiter=\",\")\n",
    "os.chdir(output_path)\n",
    "f = open('trigrams_position.csv', 'w')\n",
    "w = csv.writer(f)\n",
    "w.writerow(['position', 'trigrams'])\n",
    "for index in range(len(selected_trigrams)):\n",
    "    w.writerow([index,selected_trigrams[index] ])\n"
   ]
  },
  {
   "cell_type": "code",
   "execution_count": 61,
   "metadata": {},
   "outputs": [
    {
     "name": "stdout",
     "output_type": "stream",
     "text": [
      "(2, 1008)\n"
     ]
    },
    {
     "data": {
      "text/plain": [
       "True"
      ]
     },
     "execution_count": 61,
     "metadata": {},
     "output_type": "execute_result"
    }
   ],
   "source": [
    "from numpy import genfromtxt\n",
    "os.chdir(output_path)\n",
    "text1=genfromtxt('binary_matrix_1.csv', delimiter=',')\n",
    "text2=genfromtxt('binary_matrix.csv', delimiter=',')\n",
    "print(text1.shape)\n",
    "for i in range(1008):\n",
    "    if text1.item(0,i)!=text2.item(0,i):\n",
    "        print(i,\"  \",text1.item(0,i),\"  \",text2.item(0,i))\n",
    "np.array_equal(text1,text2)"
   ]
  },
  {
   "cell_type": "code",
   "execution_count": null,
   "metadata": {},
   "outputs": [],
   "source": []
  }
 ],
 "metadata": {
  "kernelspec": {
   "display_name": "Python 3",
   "language": "python",
   "name": "python3"
  },
  "language_info": {
   "codemirror_mode": {
    "name": "ipython",
    "version": 3
   },
   "file_extension": ".py",
   "mimetype": "text/x-python",
   "name": "python",
   "nbconvert_exporter": "python",
   "pygments_lexer": "ipython3",
   "version": "3.6.6"
  }
 },
 "nbformat": 4,
 "nbformat_minor": 2
}
