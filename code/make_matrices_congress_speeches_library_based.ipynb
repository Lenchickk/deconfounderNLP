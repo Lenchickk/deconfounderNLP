{
 "cells": [
  {
   "cell_type": "code",
   "execution_count": 26,
   "metadata": {},
   "outputs": [],
   "source": [
    "import csv, sys\n",
    "import os, glob\n",
    "from string import ascii_lowercase ,digits\n",
    "import numpy as np\n",
    "from nltk.corpus import stopwords\n",
    "from nltk.stem.snowball import SnowballStemmer\n",
    "from nltk.tokenize import word_tokenize\n",
    "import nltk\n",
    "import pandas as pd\n",
    "from nltk.probability import FreqDist\n",
    "\n",
    "\n",
    "\n",
    "output_path = '/home/romina/Documents/work/Speeches_mining/outputs'\n",
    "input_path = '/home/romina/Documents/work/speeches-segmented/greg-tables'"
   ]
  },
  {
   "cell_type": "code",
   "execution_count": 27,
   "metadata": {},
   "outputs": [],
   "source": [
    "os.chdir(output_path)\n",
    "output = open('speeches_2005_12_n_100.csv', 'r')\n",
    "data = pd.read_csv(output, encoding='utf-8')\n",
    "text = pd.DataFrame(data[['text']])\n",
    "data = list()\n",
    "for index, content in text.iterrows():\n",
    "    data.append(content['text'])"
   ]
  },
  {
   "cell_type": "code",
   "execution_count": 28,
   "metadata": {},
   "outputs": [],
   "source": [
    "stemmer = SnowballStemmer(\"english\", ignore_stopwords=True)\n",
    "    ##setting up and extending stopwords\n",
    "stop = stopwords.words('english')\n",
    "stop.extend(\n",
    "    ['nevertheless', 'would', 'nether''the', 'in', 'may', 'also', 'zero', 'one', 'two', 'three', 'four', 'five',\n",
    "     'six', 'seven', 'eight', 'nine', 'ten', 'quot', 'across', 'among', 'beside', 'however', 'yet',\n",
    "     'within'] + list(ascii_lowercase))\n",
    "\n",
    "#for removing digits\n",
    "translator = str.maketrans('', '', digits)\n",
    "\n",
    "\n",
    "tokens = []\n",
    "for statement in data:\n",
    "    statement_removed_digits=statement.translate(translator)\n",
    "    words = word_tokenize(statement_removed_digits.lower())\n",
    "    words_clean = []\n",
    "    for word in words:\n",
    "        if word not in stop:\n",
    "            words_clean.append(stemmer.stem(word))\n",
    "    tokens.append(words_clean)"
   ]
  },
  {
   "cell_type": "code",
   "execution_count": 29,
   "metadata": {},
   "outputs": [],
   "source": [
    "n=3\n",
    "all_trigrams=list()\n",
    "text_trigram=list()\n",
    "for token_group in tokens:\n",
    "    trigram_group = list(nltk.ngrams(token_group, n))\n",
    "    text_trigram.append(trigram_group)\n",
    "    for trigram in trigram_group:\n",
    "        all_trigrams.append(trigram)\n"
   ]
  },
  {
   "cell_type": "code",
   "execution_count": 30,
   "metadata": {},
   "outputs": [],
   "source": [
    "total=len(all_trigrams)\n",
    "cutoff = 0.00003 * total\n",
    "fdist = FreqDist(all_trigrams)\n",
    "selected_trigrams={k: v for k, v in fdist.items() if v > cutoff}\n",
    "selected_trigrams_count=list(selected_trigrams.values())\n",
    "selected_trigrams=list(selected_trigrams.keys())\n"
   ]
  },
  {
   "cell_type": "code",
   "execution_count": 31,
   "metadata": {},
   "outputs": [],
   "source": [
    "binary_matrix = np.zeros(shape=(len(text_trigram), len(selected_trigrams)))\n",
    "frequency_matrix = np.zeros(shape=(len(text_trigram), len(selected_trigrams)))\n",
    "\n",
    "for index in range(0, len(text_trigram)):\n",
    "    for token in text_trigram[index]:\n",
    "        if token in selected_trigrams:\n",
    "            binary_matrix[index, selected_trigrams.index(token)] = 1\n",
    "            frequency_matrix[index, selected_trigrams.index(token)]=text_trigram[index].count(token)\n",
    "\n",
    "\n",
    "np.savetxt(\"speeches_2005_12_binary_n_100.csv\", binary_matrix.astype(int),fmt='%i', delimiter=\",\")\n",
    "np.savetxt(\"speeches_2005_12_frequency_n_100.csv\",frequency_matrix.astype(int),fmt='%i', delimiter=\",\")"
   ]
  },
  {
   "cell_type": "code",
   "execution_count": 61,
   "metadata": {},
   "outputs": [
    {
     "name": "stdout",
     "output_type": "stream",
     "text": [
      "(2, 1008)\n"
     ]
    },
    {
     "data": {
      "text/plain": [
       "True"
      ]
     },
     "execution_count": 61,
     "metadata": {},
     "output_type": "execute_result"
    }
   ],
   "source": [
    "# from numpy import genfromtxt\n",
    "# os.chdir(output_path)\n",
    "# text1=genfromtxt('binary_matrix_1.csv', delimiter=',')\n",
    "# text2=genfromtxt('binary_matrix.csv', delimiter=',')\n",
    "# print(text1.shape)\n",
    "# for i in range(1008):\n",
    "#     if text1.item(0,i)!=text2.item(0,i):\n",
    "#         print(i,\"  \",text1.item(0,i),\"  \",text2.item(0,i))\n",
    "# np.array_equal(text1,text2)"
   ]
  },
  {
   "cell_type": "code",
   "execution_count": 32,
   "metadata": {},
   "outputs": [],
   "source": [
    "from statistics import mean, pstdev\n",
    "import matplotlib.pyplot as plt\n",
    "mu=mean(selected_trigrams_count)\n",
    "st=pstdev(selected_trigrams_count,mu)\n",
    "# plt.hist(selected_trigrams_count, bins=np.arange(min(selected_trigrams_count),max(selected_trigrams_count)+1), align='left')\n",
    "# plt.show()"
   ]
  },
  {
   "cell_type": "code",
   "execution_count": 33,
   "metadata": {},
   "outputs": [],
   "source": [
    "f = open('trigrams_position_n_100.csv', 'w')\n",
    "w = csv.writer(f)\n",
    "w.writerow(['stats:',mu,st])\n",
    "w.writerow(['position', 'trigrams','count'])\n",
    "for index in range(len(selected_trigrams)):\n",
    "    w.writerow([index,selected_trigrams[index],selected_trigrams_count[index] ])\n"
   ]
  }
 ],
 "metadata": {
  "kernelspec": {
   "display_name": "Python 3",
   "language": "python",
   "name": "python3"
  },
  "language_info": {
   "codemirror_mode": {
    "name": "ipython",
    "version": 3
   },
   "file_extension": ".py",
   "mimetype": "text/x-python",
   "name": "python",
   "nbconvert_exporter": "python",
   "pygments_lexer": "ipython3",
   "version": "3.6.6"
  }
 },
 "nbformat": 4,
 "nbformat_minor": 2
}
