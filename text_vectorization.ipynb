{
 "cells": [
  {
   "cell_type": "markdown",
   "metadata": {},
   "source": [
    "# Text vectorization \n",
    "\n",
    "The current version performs the transformation of a text field (N x 1) -> (N x D) where (N X D) is a binary matrix of n-grams created or a matrix of n-grams counts after the input text field is processed.   "
   ]
  },
  {
   "cell_type": "code",
   "execution_count": 1,
   "metadata": {},
   "outputs": [
    {
     "data": {
      "text/html": [
       "<div>\n",
       "<style scoped>\n",
       "    .dataframe tbody tr th:only-of-type {\n",
       "        vertical-align: middle;\n",
       "    }\n",
       "\n",
       "    .dataframe tbody tr th {\n",
       "        vertical-align: top;\n",
       "    }\n",
       "\n",
       "    .dataframe thead th {\n",
       "        text-align: right;\n",
       "    }\n",
       "</style>\n",
       "<table border=\"1\" class=\"dataframe\">\n",
       "  <thead>\n",
       "    <tr style=\"text-align: right;\">\n",
       "      <th></th>\n",
       "      <th>snippet</th>\n",
       "    </tr>\n",
       "  </thead>\n",
       "  <tbody>\n",
       "    <tr>\n",
       "      <th>0</th>\n",
       "      <td>N.J. 501 (1965)\\n213 A.2d 20\\nIN RE WAIVER OF ...</td>\n",
       "    </tr>\n",
       "    <tr>\n",
       "      <th>1</th>\n",
       "      <td>whether the death penalty is, per se, unconsti...</td>\n",
       "    </tr>\n",
       "    <tr>\n",
       "      <th>2</th>\n",
       "      <td>#39;s contention that the assessment of the de...</td>\n",
       "    </tr>\n",
       "    <tr>\n",
       "      <th>3</th>\n",
       "      <td>.3d 673 (2009)\\n2009-NMSC-053\\nIN THE MATTER O...</td>\n",
       "    </tr>\n",
       "    <tr>\n",
       "      <th>4</th>\n",
       "      <td>assume the district attorney orally waived the...</td>\n",
       "    </tr>\n",
       "  </tbody>\n",
       "</table>\n",
       "</div>"
      ],
      "text/plain": [
       "                                             snippet\n",
       "0  N.J. 501 (1965)\\n213 A.2d 20\\nIN RE WAIVER OF ...\n",
       "1  whether the death penalty is, per se, unconsti...\n",
       "2  #39;s contention that the assessment of the de...\n",
       "3  .3d 673 (2009)\\n2009-NMSC-053\\nIN THE MATTER O...\n",
       "4  assume the district attorney orally waived the..."
      ]
     },
     "execution_count": 1,
     "metadata": {},
     "output_type": "execute_result"
    }
   ],
   "source": [
    "import csv\n",
    "import pandas as pd\n",
    "\n",
    "datafile = '/Users/elenalabzina/Documents/GitHub/DeconfounderAnalysis/data/death-penalty-cases.csv'\n",
    "csv_file = open(datafile, mode='r')\n",
    "csv_reader = csv.DictReader(csv_file)\n",
    "data = pd.read_csv(datafile, encoding='utf-8')\n",
    "\n",
    "text = pd.DataFrame(data[['snippet']])\n",
    "\n",
    "text[0:5]"
   ]
  },
  {
   "cell_type": "markdown",
   "metadata": {},
   "source": [
    "(The snippet field from the deathpenalty dataset is used purely as a starting example. Feel free to replace it with other data source.)"
   ]
  },
  {
   "cell_type": "markdown",
   "metadata": {},
   "source": [
    "## Initial cleaning: Cleansing, stemming and removal of the stopwords. "
   ]
  },
  {
   "cell_type": "code",
   "execution_count": 2,
   "metadata": {},
   "outputs": [],
   "source": [
    "from nltk.stem.snowball import SnowballStemmer\n",
    "from nltk.corpus import stopwords \n",
    "from string import ascii_lowercase\n",
    "from nltk import ngrams\n",
    "from collections import Counter\n",
    "from nltk.tokenize import word_tokenize\n",
    "from nltk.tokenize import RegexpTokenizer\n",
    "\n",
    "stemmer = SnowballStemmer(\"english\", ignore_stopwords=True)\n",
    "tokenizer = RegexpTokenizer(r'[a-z]+')\n",
    "\n",
    "##setting up and extending stopwords\n",
    "stop = stopwords.words('english')\n",
    "stop.extend(['nevertheless','would','nether''the','in','may','also','zero','one','two','three','four','five','six','seven','eight','nine','ten','quot','across','among','beside','however','yet','within']+list(ascii_lowercase))\n",
    "\n",
    "#also we add 'death' and 'penalty' since they are very frequent \n",
    "\n",
    "stop.extend(['death','penalty'])"
   ]
  },
  {
   "cell_type": "markdown",
   "metadata": {},
   "source": [
    "First, we are transforming our text field into tokens. This involves removing all unnecessary characters, converting all words to small case, and stemming. For example, \"I am eating pizza\" => ['eat','pizza']."
   ]
  },
  {
   "cell_type": "code",
   "execution_count": 3,
   "metadata": {},
   "outputs": [
    {
     "data": {
      "text/plain": [
       "[['waiver',\n",
       "  'suprem',\n",
       "  'court',\n",
       "  'new',\n",
       "  'jersey',\n",
       "  'septemb',\n",
       "  'hellip',\n",
       "  'counti',\n",
       "  'court',\n",
       "  'judg',\n",
       "  'waiver',\n",
       "  'suprem',\n",
       "  'court',\n",
       "  'concern',\n",
       "  'excess',\n",
       "  'hellip',\n",
       "  'case',\n",
       "  'prosecutor',\n",
       "  'seek',\n",
       "  'cogniz',\n",
       "  'fact',\n",
       "  'situat',\n",
       "  'hellip',\n",
       "  'although',\n",
       "  'prosecutor',\n",
       "  'right',\n",
       "  'waiv',\n",
       "  'inform',\n",
       "  'juri',\n",
       "  'juri',\n",
       "  'hellip',\n",
       "  'assum',\n",
       "  'prosecutor',\n",
       "  'return',\n",
       "  'ask']]"
      ]
     },
     "execution_count": 3,
     "metadata": {},
     "output_type": "execute_result"
    }
   ],
   "source": [
    "tokens = []\n",
    "\n",
    "for statement in text['snippet']:\n",
    "    words = tokenizer.tokenize(statement.lower())\n",
    "    #print(words)\n",
    "    words_clean = []\n",
    "    for word in words:\n",
    "        if word in stop: \n",
    "            continue\n",
    "        words_clean.append(stemmer.stem(word))\n",
    "    tokens.append(words_clean)    \n",
    "\n",
    "tokens[0:1]"
   ]
  },
  {
   "cell_type": "markdown",
   "metadata": {},
   "source": [
    "## Creating n-grams"
   ]
  },
  {
   "cell_type": "markdown",
   "metadata": {},
   "source": [
    "Now we make n-grams. n is set to 3 but feel free to modify it. Before getting the final X, we need to count the occurrence of n-grams to evaluate the distribution and make sense of the data. "
   ]
  },
  {
   "cell_type": "code",
   "execution_count": 4,
   "metadata": {},
   "outputs": [
    {
     "name": "stderr",
     "output_type": "stream",
     "text": [
      "/Users/elenalabzina/anaconda2/envs/py36/lib/python3.6/site-packages/ipykernel_launcher.py:5: DeprecationWarning: generator 'ngrams' raised StopIteration\n",
      "  \"\"\"\n"
     ]
    }
   ],
   "source": [
    "my_ngrams=[]\n",
    "n=3\n",
    "\n",
    "for token_group in tokens:\n",
    "    ngram = list(ngrams(token_group,n))\n",
    "    my_ngrams.append(ngram)\n",
    "    \n",
    "#my_ngrams[0:2]"
   ]
  },
  {
   "cell_type": "code",
   "execution_count": 5,
   "metadata": {},
   "outputs": [
    {
     "data": {
      "text/plain": [
       "[[('waiver', 'suprem', 'court'),\n",
       "  ('suprem', 'court', 'new'),\n",
       "  ('court', 'new', 'jersey'),\n",
       "  ('new', 'jersey', 'septemb'),\n",
       "  ('jersey', 'septemb', 'hellip'),\n",
       "  ('septemb', 'hellip', 'counti'),\n",
       "  ('hellip', 'counti', 'court'),\n",
       "  ('counti', 'court', 'judg'),\n",
       "  ('court', 'judg', 'waiver'),\n",
       "  ('judg', 'waiver', 'suprem'),\n",
       "  ('waiver', 'suprem', 'court'),\n",
       "  ('suprem', 'court', 'concern'),\n",
       "  ('court', 'concern', 'excess'),\n",
       "  ('concern', 'excess', 'hellip'),\n",
       "  ('excess', 'hellip', 'case'),\n",
       "  ('hellip', 'case', 'prosecutor'),\n",
       "  ('case', 'prosecutor', 'seek'),\n",
       "  ('prosecutor', 'seek', 'cogniz'),\n",
       "  ('seek', 'cogniz', 'fact'),\n",
       "  ('cogniz', 'fact', 'situat'),\n",
       "  ('fact', 'situat', 'hellip'),\n",
       "  ('situat', 'hellip', 'although'),\n",
       "  ('hellip', 'although', 'prosecutor'),\n",
       "  ('although', 'prosecutor', 'right'),\n",
       "  ('prosecutor', 'right', 'waiv'),\n",
       "  ('right', 'waiv', 'inform'),\n",
       "  ('waiv', 'inform', 'juri'),\n",
       "  ('inform', 'juri', 'juri'),\n",
       "  ('juri', 'juri', 'hellip'),\n",
       "  ('juri', 'hellip', 'assum'),\n",
       "  ('hellip', 'assum', 'prosecutor'),\n",
       "  ('assum', 'prosecutor', 'return'),\n",
       "  ('prosecutor', 'return', 'ask')],\n",
       " [('whether', 'per', 'se'),\n",
       "  ('per', 'se', 'unconstitut'),\n",
       "  ('se', 'unconstitut', 'whether'),\n",
       "  ('unconstitut', 'whether', 'discretionari'),\n",
       "  ('whether', 'discretionari', 'statut'),\n",
       "  ('discretionari', 'statut', 'hellip'),\n",
       "  ('statut', 'hellip', 'novemb'),\n",
       "  ('hellip', 'novemb', 'state'),\n",
       "  ('novemb', 'state', 'effort'),\n",
       "  ('state', 'effort', 'reinstat'),\n",
       "  ('effort', 'reinstat', 'discretionari'),\n",
       "  ('reinstat', 'discretionari', 'hellip'),\n",
       "  ('discretionari', 'hellip', 'interest'),\n",
       "  ('hellip', 'interest', 'impos'),\n",
       "  ('interest', 'impos', 'anoth'),\n",
       "  ('impos', 'anoth', 'statut'),\n",
       "  ('anoth', 'statut', 'differ'),\n",
       "  ('statut', 'differ', 'constitut'),\n",
       "  ('differ', 'constitut', 'hellip'),\n",
       "  ('constitut', 'hellip', 'impos'),\n",
       "  ('hellip', 'impos', 'state'),\n",
       "  ('impos', 'state', 'florida'),\n",
       "  ('state', 'florida', 'appli'),\n",
       "  ('florida', 'appli', 'greater'),\n",
       "  ('appli', 'greater', 'degre'),\n",
       "  ('greater', 'degre', 'hellip'),\n",
       "  ('degre', 'hellip', 'imposit'),\n",
       "  ('hellip', 'imposit', 'carri'),\n",
       "  ('imposit', 'carri', 'case'),\n",
       "  ('carri', 'case', 'constitut'),\n",
       "  ('case', 'constitut', 'cruel'),\n",
       "  ('constitut', 'cruel', 'unusu')]]"
      ]
     },
     "execution_count": 5,
     "metadata": {},
     "output_type": "execute_result"
    }
   ],
   "source": [
    "my_ngrams[0:2]"
   ]
  },
  {
   "cell_type": "code",
   "execution_count": 6,
   "metadata": {},
   "outputs": [],
   "source": [
    "ngrams_dict=dict()\n",
    "ngrams_counter=dict()\n",
    "index = -1\n",
    "max_occ=1\n",
    "total = 0\n",
    "\n",
    "for token_group in my_ngrams:\n",
    "    for token in token_group:\n",
    "        total = total + 1\n",
    "        my_key = tuple(token)\n",
    "        if my_key in ngrams_dict:\n",
    "            ngrams_counter[my_key] = ngrams_counter[my_key]+1\n",
    "            if (max_occ < ngrams_counter[my_key]): max_occ=ngrams_counter[my_key]\n",
    "            continue\n",
    "        index = index + 1\n",
    "        ngrams_dict[my_key]=index\n",
    "        ngrams_counter[my_key] = 1"
   ]
  },
  {
   "cell_type": "markdown",
   "metadata": {},
   "source": [
    "### Filtering the distribution of the n-grams "
   ]
  },
  {
   "cell_type": "code",
   "execution_count": 7,
   "metadata": {},
   "outputs": [
    {
     "data": {
      "text/plain": [
       "(364563, 2700)"
      ]
     },
     "execution_count": 7,
     "metadata": {},
     "output_type": "execute_result"
    }
   ],
   "source": [
    "index, max_occ  \n",
    "\n"
   ]
  },
  {
   "cell_type": "markdown",
   "metadata": {},
   "source": [
    "Let's check the usual quantiles. "
   ]
  },
  {
   "cell_type": "code",
   "execution_count": 8,
   "metadata": {},
   "outputs": [
    {
     "name": "stdout",
     "output_type": "stream",
     "text": [
      "(('anoth', 'determin', 'whether'), 1)\n",
      "(('base', 'record', 'us'), 3)\n"
     ]
    }
   ],
   "source": [
    "import operator\n",
    "\n",
    "ngrams_counter_sorted = sorted(ngrams_counter.items(), key=operator.itemgetter(1))\n",
    "print(ngrams_counter_sorted[(int)(index*0.05)])\n",
    "print(ngrams_counter_sorted[(int)(index*0.95)])"
   ]
  },
  {
   "cell_type": "markdown",
   "metadata": {},
   "source": [
    "The data is very screwed. Let's have a look at some histograms: "
   ]
  },
  {
   "cell_type": "code",
   "execution_count": 10,
   "metadata": {},
   "outputs": [
    {
     "data": {
      "image/png": "[encoded data removed]",
      "text/plain": [
       "<Figure size 432x288 with 1 Axes>"
      ]
     },
     "metadata": {
      "needs_background": "light"
     },
     "output_type": "display_data"
    }
   ],
   "source": [
    "import matplotlib.pyplot as plt\n",
    "\n",
    "plt.hist(ngrams_counter.values(),bins=5,range=(1,5))\n",
    "plt.show()"
   ]
  },
  {
   "cell_type": "code",
   "execution_count": 11,
   "metadata": {},
   "outputs": [
    {
     "data": {
      "image/png": "[encoded data removed]",
      "text/plain": [
       "<Figure size 432x288 with 1 Axes>"
      ]
     },
     "metadata": {
      "needs_background": "light"
     },
     "output_type": "display_data"
    }
   ],
   "source": [
    "plt.hist(ngrams_counter.values(),bins=100,range=(5,max_occ))\n",
    "plt.show()"
   ]
  },
  {
   "cell_type": "markdown",
   "metadata": {},
   "source": [
    "What is the most frequent n-gram? "
   ]
  },
  {
   "cell_type": "code",
   "execution_count": 12,
   "metadata": {},
   "outputs": [
    {
     "name": "stdout",
     "output_type": "stream",
     "text": [
      "2700\n",
      "581241\n"
     ]
    },
    {
     "data": {
      "text/plain": [
       "[('antiterror', 'effect', 'act')]"
      ]
     },
     "execution_count": 12,
     "metadata": {},
     "output_type": "execute_result"
    }
   ],
   "source": [
    "mx=max(ngrams_counter.values())\n",
    "print(mx)\n",
    "print(total)\n",
    "\n",
    "def return_all_val_from_dict(d,v): \n",
    "    l =list()\n",
    "    for x, y in d.items():    \n",
    "        if y == v: l.append(x)\n",
    "    return l   \n",
    "\n",
    "def count_in_dict(d,n):\n",
    "    for x, y in d.items():    \n",
    "        if y == v: return  \n",
    "\n",
    "return_all_val_from_dict(ngrams_counter,mx)\n",
    "# total"
   ]
  },
  {
   "cell_type": "markdown",
   "metadata": {},
   "source": [
    "The chance for an n-gram to occur: $P(gram) = \\frac{count(gram)}{total} = \\frac{count(gram)}{581241}$. \n",
    "\n",
    "3-grams in our sample range in this respect: \n",
    "from $\\frac{1}{total}$ to $\\frac{mx}{total}$ = 1.7204567468571557e-06 to 0.00464523321651432\n",
    "\n",
    "Let's pick only those that have the chance of occurrence of at least $0.0001$ or $ count(n-gram)>= 0.0001*total$  \n",
    "\n",
    "This is (a bit) arb, but we need to pick some number to cut the tail off.   "
   ]
  },
  {
   "cell_type": "code",
   "execution_count": 13,
   "metadata": {},
   "outputs": [
    {
     "data": {
      "text/plain": [
       "5.812410000000001"
      ]
     },
     "execution_count": 13,
     "metadata": {},
     "output_type": "execute_result"
    }
   ],
   "source": [
    "cutoff = 0.00001*total\n",
    "cutoff"
   ]
  },
  {
   "cell_type": "code",
   "execution_count": 14,
   "metadata": {},
   "outputs": [
    {
     "data": {
      "text/plain": [
       "8133"
      ]
     },
     "execution_count": 14,
     "metadata": {},
     "output_type": "execute_result"
    }
   ],
   "source": [
    "ngrams_orderpos = list()\n",
    "\n",
    "for key in ngrams_counter.keys():\n",
    "    if ngrams_counter[key]<cutoff: continue\n",
    "    ngrams_orderpos.append(key)\n",
    "    \n",
    "len(ngrams_orderpos)"
   ]
  },
  {
   "cell_type": "markdown",
   "metadata": {},
   "source": [
    "### Creating the final matrix"
   ]
  },
  {
   "cell_type": "markdown",
   "metadata": {},
   "source": [
    "Hence, we decreased the number of variables from 364563 to 8133 by excluding the least frequent ones. Now we need to do the last step: to construct the binary matrix D:"
   ]
  },
  {
   "cell_type": "code",
   "execution_count": 15,
   "metadata": {},
   "outputs": [],
   "source": [
    "import numpy as np\n",
    "\n",
    "D = np.zeros(shape=(len(my_ngrams),len(ngrams_orderpos)))\n",
    "\n",
    "index=-1\n",
    "\n",
    "for index in range(0,len(my_ngrams)):\n",
    "    for token in token_group:\n",
    "        if token not in ngrams_orderpos: continue\n",
    "        D[index, ngrams_orderpos.index(token)]=1"
   ]
  },
  {
   "cell_type": "code",
   "execution_count": 16,
   "metadata": {},
   "outputs": [
    {
     "data": {
      "text/plain": [
       "(32567, 8133)"
      ]
     },
     "execution_count": 16,
     "metadata": {},
     "output_type": "execute_result"
    }
   ],
   "source": [
    "D.shape"
   ]
  },
  {
   "cell_type": "code",
   "execution_count": 23,
   "metadata": {},
   "outputs": [
    {
     "name": "stdout",
     "output_type": "stream",
     "text": [
      "non-zeros\n",
      "97701.0\n",
      "zeros\n",
      "264867411\n",
      "total\n",
      "2711.0\n"
     ]
    }
   ],
   "source": [
    "print('non-zeros')\n",
    "print(np.sum(D))\n",
    "print('zeros')\n",
    "print(len(my_ngrams)*len(ngrams_orderpos))\n",
    "print('total')\n",
    "print(len(my_ngrams)*len(ngrams_orderpos)/np.sum(D))"
   ]
  },
  {
   "cell_type": "markdown",
   "metadata": {},
   "source": [
    "## N of occurrences instead of binary values:"
   ]
  },
  {
   "cell_type": "markdown",
   "metadata": {},
   "source": [
    "This task is very similar to the previous one. The only addition is that we need to count the number of occurrences of an n-gram for each observation. For many texts, the final matrix here is likely to be very similar for n>1 to the binary one constructed above. However, for larger texts these two approaches might produce very different results.\n",
    "\n",
    "We are still interested only in the n-grams that have been filtered and now are stored in ngrams_orderpos. "
   ]
  },
  {
   "cell_type": "code",
   "execution_count": 29,
   "metadata": {},
   "outputs": [],
   "source": [
    "my_ngrams_counted = list()\n",
    "\n",
    "for ngrams in my_ngrams:\n",
    "    my_dict = dict()\n",
    "    for ngram in ngrams:\n",
    "        if ngram not in ngrams_orderpos: continue\n",
    "        if ngram not in my_dict.keys(): \n",
    "            my_dict[ngram]=1\n",
    "            continue\n",
    "        my_dict[ngram] = my_dict[ngram] + 1\n",
    "    my_ngrams_counted.append(my_dict)"
   ]
  },
  {
   "cell_type": "code",
   "execution_count": 35,
   "metadata": {},
   "outputs": [
    {
     "data": {
      "text/plain": [
       "{('hellip', 'question', 'concern'): 1}"
      ]
     },
     "execution_count": 35,
     "metadata": {},
     "output_type": "execute_result"
    }
   ],
   "source": [
    "my_ngrams_counted[7]"
   ]
  },
  {
   "cell_type": "code",
   "execution_count": 36,
   "metadata": {},
   "outputs": [],
   "source": [
    "D_counted = np.zeros(shape=(len(my_ngrams),len(ngrams_orderpos)))\n",
    "\n",
    "for index in range(0,len(my_ngrams_counted)):\n",
    "    for key in my_ngrams_counted[index].keys():\n",
    "        D_counted[index, ngrams_orderpos.index(key)]=my_ngrams_counted[index][key]"
   ]
  },
  {
   "cell_type": "markdown",
   "metadata": {},
   "source": [
    "Let's compare to the binary case:"
   ]
  },
  {
   "cell_type": "code",
   "execution_count": 37,
   "metadata": {},
   "outputs": [
    {
     "data": {
      "text/plain": [
       "array([1., 1., 1., ..., 0., 0., 0.])"
      ]
     },
     "execution_count": 37,
     "metadata": {},
     "output_type": "execute_result"
    }
   ],
   "source": [
    "D_counted[1,:]"
   ]
  },
  {
   "cell_type": "code",
   "execution_count": 42,
   "metadata": {},
   "outputs": [
    {
     "data": {
      "text/plain": [
       "0.9991574350383181"
      ]
     },
     "execution_count": 42,
     "metadata": {},
     "output_type": "execute_result"
    }
   ],
   "source": [
    "np.average(sum(D==D_counted))/len(D_counted)"
   ]
  },
  {
   "cell_type": "code",
   "execution_count": 43,
   "metadata": {},
   "outputs": [
    {
     "data": {
      "text/plain": [
       "11.988442027647327"
      ]
     },
     "execution_count": 43,
     "metadata": {},
     "output_type": "execute_result"
    }
   ],
   "source": [
    "np.var(sum(D==D_counted))/(len(D_counted)^2)"
   ]
  }
 ],
 "metadata": {
  "kernelspec": {
   "display_name": "Python 3",
   "language": "python",
   "name": "python3"
  },
  "language_info": {
   "codemirror_mode": {
    "name": "ipython",
    "version": 3
   },
   "file_extension": ".py",
   "mimetype": "text/x-python",
   "name": "python",
   "nbconvert_exporter": "python",
   "pygments_lexer": "ipython3",
   "version": "3.6.6"
  }
 },
 "nbformat": 4,
 "nbformat_minor": 2
}
